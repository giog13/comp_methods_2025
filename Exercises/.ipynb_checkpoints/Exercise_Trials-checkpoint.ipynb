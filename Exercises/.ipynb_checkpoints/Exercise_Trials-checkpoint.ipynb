{
 "cells": [
  {
   "cell_type": "code",
   "execution_count": 1,
   "id": "632d1913",
   "metadata": {},
   "outputs": [],
   "source": [
    "import numpy as np\n",
    "import pandas as pd\n",
    "#import astropy.constants as const\n",
    "import scipy.constants as const\n",
    "import astropy.units as u\n",
    "import argparse\n",
    "import sys"
   ]
  },
  {
   "cell_type": "code",
   "execution_count": 5,
   "id": "075b4002",
   "metadata": {},
   "outputs": [],
   "source": [
    "def drop_time(h, g = 9.8): #h = positional, g = keyword\n",
    "    t = ((2.0 * h) / g) ** (1/2) #Avoid using a package unless absolutely necessary\n",
    "    return t"
   ]
  },
  {
   "cell_type": "code",
   "execution_count": 7,
   "id": "d67681c3",
   "metadata": {},
   "outputs": [
    {
     "data": {
      "text/plain": [
       "1.4285714285714286"
      ]
     },
     "execution_count": 7,
     "metadata": {},
     "output_type": "execute_result"
    }
   ],
   "source": [
    "#If the height is 1 m:\n",
    "drop_time(10)"
   ]
  },
  {
   "cell_type": "markdown",
   "id": "36a50ccc",
   "metadata": {},
   "source": [
    "Machine Precision"
   ]
  },
  {
   "cell_type": "code",
   "execution_count": 1,
   "id": "fff0212d",
   "metadata": {},
   "outputs": [
    {
     "name": "stdout",
     "output_type": "stream",
     "text": [
      "2.220446049250313e-16\n"
     ]
    }
   ],
   "source": [
    "x = 1.0\n",
    "eps = 1.0\n",
    "\n",
    "while not x + eps == x:\n",
    "    eps = 0.5 * eps\n",
    "    \n",
    "print(2 * eps)"
   ]
  },
  {
   "cell_type": "code",
   "execution_count": 7,
   "id": "6076f052",
   "metadata": {},
   "outputs": [
    {
     "name": "stdout",
     "output_type": "stream",
     "text": [
      "<class 'float'>\n",
      "        0.10000000000000000555\n"
     ]
    },
    {
     "data": {
      "text/plain": [
       "sys.float_info(max=1.7976931348623157e+308, max_exp=1024, max_10_exp=308, min=2.2250738585072014e-308, min_exp=-1021, min_10_exp=-307, dig=15, mant_dig=53, epsilon=2.220446049250313e-16, radix=2, rounds=1)"
      ]
     },
     "execution_count": 7,
     "metadata": {},
     "output_type": "execute_result"
    }
   ],
   "source": [
    "b = 0.1\n",
    "print(type(b))\n",
    "print(\"{:30.20}\".format(b))\n",
    "sys.float_info"
   ]
  },
  {
   "cell_type": "code",
   "execution_count": 9,
   "id": "aa16ce19",
   "metadata": {},
   "outputs": [
    {
     "name": "stdout",
     "output_type": "stream",
     "text": [
      "14.144241333724494\n",
      "1.4142135623730951\n"
     ]
    }
   ],
   "source": [
    "x = 1\n",
    "y = 1 + (10e-14 * np.sqrt(2))\n",
    "\n",
    "print(1e14 * (y-x))\n",
    "print(np.sqrt(2))"
   ]
  },
  {
   "cell_type": "code",
   "execution_count": 10,
   "id": "46f48def",
   "metadata": {},
   "outputs": [],
   "source": [
    "def quad_formula_2(a, b, c):\n",
    "    #Solution 2\n",
    "    x_1 = (2 * c) / (-b - np.sqrt(np.square(b) - (4 * a * c)))\n",
    "    x_2 = (2 * c) / (-b + np.sqrt(np.square(b) - (4 * a * c)))\n",
    "    \n",
    "    return x_1, x_2  "
   ]
  },
  {
   "cell_type": "code",
   "execution_count": 15,
   "id": "02bac8d0",
   "metadata": {},
   "outputs": [
    {
     "name": "stdout",
     "output_type": "stream",
     "text": [
      "-0.18350341907227397\n",
      "-1.8164965809277254\n"
     ]
    }
   ],
   "source": [
    "root_1, root_2 = quad_formula_2(3, 6, 1)\n",
    "print(root_1)\n",
    "print(root_2)"
   ]
  },
  {
   "cell_type": "code",
   "execution_count": 8,
   "id": "0c98b49f",
   "metadata": {},
   "outputs": [],
   "source": [
    "def energy(n):\n",
    "    \n",
    "    hf = 1\n",
    "    beta = 0.01\n",
    "    \n",
    "    #Initializers\n",
    "    Z = 0\n",
    "    E = 0\n",
    "    \n",
    "    for i in range(n):\n",
    "        E_n = hf * (i + 0.5) #Energy level\n",
    "        Z = Z + np.exp(-beta * E_n) #Z equation (infinite sum)\n",
    "        E += E_n * np.exp(-beta * E_n) #E equation\n",
    "        \n",
    "    avg_E = (E/Z) #Average energy\n",
    "    \n",
    "    return avg_E"
   ]
  },
  {
   "cell_type": "code",
   "execution_count": 9,
   "id": "e638bbb0",
   "metadata": {},
   "outputs": [
    {
     "name": "stdout",
     "output_type": "stream",
     "text": [
      "4000 runs: 100.00083333194436\n"
     ]
    }
   ],
   "source": [
    "#Hundred runs\n",
    "print(f\"4000 runs: {energy(4000)}\")"
   ]
  },
  {
   "cell_type": "code",
   "execution_count": 15,
   "id": "d4e1c77d",
   "metadata": {},
   "outputs": [],
   "source": [
    "#Come back\n",
    "\n",
    "def trap_rule(n):\n",
    "    \n",
    "    #Limits\n",
    "    a = 0\n",
    "    b = 2\n",
    "    \n",
    "    #Initializer\n",
    "    sum = 0\n",
    "    \n",
    "    #Functions from limits\n",
    "    func_a = (a ** 4) - (2 * a) + 1\n",
    "    func_b = (b ** 4) - (2 * b) + 1\n",
    "    del_x = (b - a) / 2\n",
    "    \n",
    "    #Summation\n",
    "    for k in range(n):\n",
    "        val = a + ((k+1) * del_x)\n",
    "        sum += (val ** 4) - (val * 2) + 1\n",
    "    \n",
    "    #Integration\n",
    "    F = del_x * ((0.5 * func_a) + (0.5 * func_b) + sum)\n",
    "    \n",
    "    return F  "
   ]
  },
  {
   "cell_type": "code",
   "execution_count": 16,
   "id": "14bc564f",
   "metadata": {},
   "outputs": [
    {
     "data": {
      "text/plain": [
       "722273.0"
      ]
     },
     "execution_count": 16,
     "metadata": {},
     "output_type": "execute_result"
    }
   ],
   "source": [
    "trap_rule(20)"
   ]
  },
  {
   "cell_type": "code",
   "execution_count": null,
   "id": "1868a0de",
   "metadata": {},
   "outputs": [],
   "source": []
  }
 ],
 "metadata": {
  "kernelspec": {
   "display_name": "Python 3",
   "language": "python",
   "name": "python3"
  },
  "language_info": {
   "codemirror_mode": {
    "name": "ipython",
    "version": 3
   },
   "file_extension": ".py",
   "mimetype": "text/x-python",
   "name": "python",
   "nbconvert_exporter": "python",
   "pygments_lexer": "ipython3",
   "version": "3.8.8"
  }
 },
 "nbformat": 4,
 "nbformat_minor": 5
}
