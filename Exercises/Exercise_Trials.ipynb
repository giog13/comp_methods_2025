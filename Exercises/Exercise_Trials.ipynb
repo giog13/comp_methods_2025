{
 "cells": [
  {
   "cell_type": "code",
   "execution_count": 1,
   "id": "632d1913",
   "metadata": {},
   "outputs": [],
   "source": [
    "import numpy as np\n",
    "import pandas as pd\n",
    "#import astropy.constants as const\n",
    "import scipy.constants as const\n",
    "import astropy.units as u\n",
    "import argparse\n",
    "import sys"
   ]
  },
  {
   "cell_type": "code",
   "execution_count": 5,
   "id": "075b4002",
   "metadata": {},
   "outputs": [],
   "source": [
    "def drop_time(h, g = 9.8): #h = positional, g = keyword\n",
    "    t = ((2.0 * h) / g) ** (1/2) #Avoid using a package unless absolutely necessary\n",
    "    return t"
   ]
  },
  {
   "cell_type": "code",
   "execution_count": 7,
   "id": "d67681c3",
   "metadata": {},
   "outputs": [
    {
     "data": {
      "text/plain": [
       "1.4285714285714286"
      ]
     },
     "execution_count": 7,
     "metadata": {},
     "output_type": "execute_result"
    }
   ],
   "source": [
    "#If the height is 1 m:\n",
    "drop_time(10)"
   ]
  },
  {
   "cell_type": "markdown",
   "id": "36a50ccc",
   "metadata": {},
   "source": [
    "Machine Precision"
   ]
  },
  {
   "cell_type": "code",
   "execution_count": 1,
   "id": "fff0212d",
   "metadata": {},
   "outputs": [
    {
     "name": "stdout",
     "output_type": "stream",
     "text": [
      "2.220446049250313e-16\n"
     ]
    }
   ],
   "source": [
    "x = 1.0\n",
    "eps = 1.0\n",
    "\n",
    "while not x + eps == x:\n",
    "    eps = 0.5 * eps\n",
    "    \n",
    "print(2 * eps)"
   ]
  },
  {
   "cell_type": "code",
   "execution_count": 7,
   "id": "6076f052",
   "metadata": {},
   "outputs": [
    {
     "name": "stdout",
     "output_type": "stream",
     "text": [
      "<class 'float'>\n",
      "        0.10000000000000000555\n"
     ]
    },
    {
     "data": {
      "text/plain": [
       "sys.float_info(max=1.7976931348623157e+308, max_exp=1024, max_10_exp=308, min=2.2250738585072014e-308, min_exp=-1021, min_10_exp=-307, dig=15, mant_dig=53, epsilon=2.220446049250313e-16, radix=2, rounds=1)"
      ]
     },
     "execution_count": 7,
     "metadata": {},
     "output_type": "execute_result"
    }
   ],
   "source": [
    "b = 0.1\n",
    "print(type(b))\n",
    "print(\"{:30.20}\".format(b))\n",
    "sys.float_info"
   ]
  },
  {
   "cell_type": "code",
   "execution_count": 9,
   "id": "aa16ce19",
   "metadata": {},
   "outputs": [
    {
     "name": "stdout",
     "output_type": "stream",
     "text": [
      "14.144241333724494\n",
      "1.4142135623730951\n"
     ]
    }
   ],
   "source": [
    "x = 1\n",
    "y = 1 + (10e-14 * np.sqrt(2))\n",
    "\n",
    "print(1e14 * (y-x))\n",
    "print(np.sqrt(2))"
   ]
  },
  {
   "cell_type": "code",
   "execution_count": 10,
   "id": "46f48def",
   "metadata": {},
   "outputs": [],
   "source": [
    "def quad_formula_2(a, b, c):\n",
    "    #Solution 2\n",
    "    x_1 = (2 * c) / (-b - np.sqrt(np.square(b) - (4 * a * c)))\n",
    "    x_2 = (2 * c) / (-b + np.sqrt(np.square(b) - (4 * a * c)))\n",
    "    \n",
    "    return x_1, x_2  "
   ]
  },
  {
   "cell_type": "code",
   "execution_count": 15,
   "id": "02bac8d0",
   "metadata": {},
   "outputs": [
    {
     "name": "stdout",
     "output_type": "stream",
     "text": [
      "-0.18350341907227397\n",
      "-1.8164965809277254\n"
     ]
    }
   ],
   "source": [
    "root_1, root_2 = quad_formula_2(3, 6, 1)\n",
    "print(root_1)\n",
    "print(root_2)"
   ]
  },
  {
   "cell_type": "code",
   "execution_count": 8,
   "id": "0c98b49f",
   "metadata": {},
   "outputs": [],
   "source": [
    "def energy(n):\n",
    "    \n",
    "    hf = 1\n",
    "    beta = 0.01\n",
    "    \n",
    "    #Initializers\n",
    "    Z = 0\n",
    "    E = 0\n",
    "    \n",
    "    for i in range(n):\n",
    "        E_n = hf * (i + 0.5) #Energy level\n",
    "        Z = Z + np.exp(-beta * E_n) #Z equation (infinite sum)\n",
    "        E += E_n * np.exp(-beta * E_n) #E equation\n",
    "        \n",
    "    avg_E = (E/Z) #Average energy\n",
    "    \n",
    "    return avg_E"
   ]
  },
  {
   "cell_type": "code",
   "execution_count": 9,
   "id": "e638bbb0",
   "metadata": {},
   "outputs": [
    {
     "name": "stdout",
     "output_type": "stream",
     "text": [
      "4000 runs: 100.00083333194436\n"
     ]
    }
   ],
   "source": [
    "#Hundred runs\n",
    "print(f\"4000 runs: {energy(4000)}\")"
   ]
  },
  {
   "cell_type": "markdown",
   "id": "ff58ae12",
   "metadata": {},
   "source": [
    "Trapezoid Rule (Integration)"
   ]
  },
  {
   "cell_type": "code",
   "execution_count": 3,
   "id": "84f0e02f",
   "metadata": {},
   "outputs": [],
   "source": [
    "def func(x): #Integration function\n",
    "    return x**4 - (2*x) + 1"
   ]
  },
  {
   "cell_type": "code",
   "execution_count": 56,
   "id": "1868a0de",
   "metadata": {},
   "outputs": [],
   "source": [
    "def trap_rule(n, a = 0, b = 2, function = func):\n",
    "    \n",
    "    #Default paramaters\n",
    "    #a (lower limit) = 0\n",
    "    #b (upper limit) = 2\n",
    "    #function = func\n",
    "    \n",
    "    h = (b - a) / n #Height\n",
    "    s = (0.5 * function(a)) + (0.5 * function(b)) #Sum\n",
    "    \n",
    "    for k in range(1, n + 1): #Summation (range stops at n)\n",
    "        s += function(a + (k * h))\n",
    "        \n",
    "    return (h * s) #Multiply height by the sum"
   ]
  },
  {
   "cell_type": "code",
   "execution_count": 58,
   "id": "d15ec41e",
   "metadata": {},
   "outputs": [
    {
     "data": {
      "text/plain": [
       "7.106560000000001"
      ]
     },
     "execution_count": 58,
     "metadata": {},
     "output_type": "execute_result"
    }
   ],
   "source": [
    "trap_rule(10)"
   ]
  },
  {
   "cell_type": "markdown",
   "id": "ab369e53",
   "metadata": {},
   "source": [
    "Simpson's Rule"
   ]
  },
  {
   "cell_type": "code",
   "execution_count": 47,
   "id": "cb9332a0",
   "metadata": {},
   "outputs": [],
   "source": [
    "def simpsons_rule(n, a = 0, b = 2, function = func):\n",
    "    \n",
    "    #Default paramaters\n",
    "    #a (lower limit) = 0\n",
    "    #b (upper limit) = 2\n",
    "    #function = func \n",
    "    \n",
    "    delta_x = (b - a) / n\n",
    "    \n",
    "    s = function(a) + function(b)\n",
    "    \n",
    "    #Odd integer loop\n",
    "    for k in range(1, int(n/2) + 1):\n",
    "        s += 4 * function(a + (((2 * k) - 1) * delta_x))\n",
    "    \n",
    "    #Even integer loop\n",
    "    for k in range(1, int((n/2))):\n",
    "        s += 2 * function(a + (2 * k * delta_x))\n",
    "        \n",
    "    return (delta_x / 3) * s"
   ]
  },
  {
   "cell_type": "code",
   "execution_count": 48,
   "id": "2777a77a",
   "metadata": {},
   "outputs": [
    {
     "data": {
      "text/plain": [
       "4.400426666666667"
      ]
     },
     "execution_count": 48,
     "metadata": {},
     "output_type": "execute_result"
    }
   ],
   "source": [
    "simpsons_rule(10)"
   ]
  },
  {
   "cell_type": "code",
   "execution_count": 59,
   "id": "88c3a1c0",
   "metadata": {},
   "outputs": [
    {
     "name": "stdout",
     "output_type": "stream",
     "text": [
      "Error with Trapezoid Rule: 0.4599666666666664\n"
     ]
    }
   ],
   "source": [
    "#Trapezoid rule\n",
    "\n",
    "#10 steps\n",
    "integral_10_trap = trap_rule(10)\n",
    "\n",
    "#20 steps\n",
    "integral_20_trap = trap_rule(20)\n",
    "\n",
    "error_trap = (1/3) * abs(integral_20_trap - integral_10_trap)\n",
    "\n",
    "print(f\"Error with Trapezoid Rule: {error_trap}\")"
   ]
  },
  {
   "cell_type": "code",
   "execution_count": 49,
   "id": "1b621358",
   "metadata": {},
   "outputs": [
    {
     "name": "stdout",
     "output_type": "stream",
     "text": [
      "Error with Simpson's Rule: 2.6666666666604518e-05\n"
     ]
    }
   ],
   "source": [
    "#Simpson's rule\n",
    "\n",
    "#10 steps\n",
    "integral_10_simp = simpsons_rule(10)\n",
    "\n",
    "#20 steps\n",
    "integral_20_simp = simpsons_rule(20)\n",
    "\n",
    "error_simp = (1/15) * abs(integral_20_simp - integral_10_simp)\n",
    "\n",
    "print(f\"Error with Simpson's Rule: {error_simp}\")"
   ]
  },
  {
   "cell_type": "markdown",
   "id": "dbd0a1bb",
   "metadata": {},
   "source": [
    "Gaussian Quadrature"
   ]
  },
  {
   "cell_type": "code",
   "execution_count": 6,
   "id": "e8ae0369",
   "metadata": {},
   "outputs": [],
   "source": [
    "def gaussxw(N):\n",
    "\n",
    "    # Initial approximation to roots of the Legendre polynomial\n",
    "    a = np.linspace(3,4*N-1,N)/(4*N+2)\n",
    "    x = np.cos(np.pi*a+1/(8*N*N*np.tan(a)))\n",
    "\n",
    "    # Find roots using Newton's method\n",
    "    epsilon = 1e-15\n",
    "    delta = 1.0\n",
    "    while delta>epsilon:\n",
    "        p0 = np.ones(N,float)\n",
    "        p1 = np.copy(x)\n",
    "        for k in range(1,N):\n",
    "            p0,p1 = p1,((2*k+1)*x*p1-k*p0)/(k+1)\n",
    "        dp = (N+1)*(p0-x*p1)/(1-x*x)\n",
    "        dx = p1/dp\n",
    "        x -= dx\n",
    "        delta = np.max(np.abs(dx))\n",
    "\n",
    "    # Calculate the weights\n",
    "    w = 2*(N+1)*(N+1)/(N*N*(1-x*x)*dp*dp)\n",
    "\n",
    "    return x,w\n",
    "\n",
    "def gaussxwab(N,a,b):\n",
    "    x,w = gaussxw(N)\n",
    "    return 0.5*(b-a)*x+0.5*(b+a),0.5*(b-a)*w"
   ]
  },
  {
   "cell_type": "code",
   "execution_count": 17,
   "id": "a1bbe34d",
   "metadata": {},
   "outputs": [
    {
     "name": "stdout",
     "output_type": "stream",
     "text": [
      "Locations: [1.77459667 1.         0.22540333]\n",
      "\n",
      "Weights: [0.55555556 0.88888889 0.55555556]\n"
     ]
    }
   ],
   "source": [
    "locations, weights = gaussxwab(3, 0, 2)\n",
    "print(f\"Locations: {locations}\\n\")\n",
    "print(f\"Weights: {weights}\")"
   ]
  },
  {
   "cell_type": "code",
   "execution_count": 20,
   "id": "969e8b03",
   "metadata": {},
   "outputs": [],
   "source": [
    "def gauss_quad(N, a = 0, b = 2, function = func): #N = Number of steps, a = Lower bound, b = Upper bound\n",
    "    \n",
    "    x, w = gaussxwab(N, a, b) #Calculates the x-coordinates for specific points and their weights\n",
    "    \n",
    "    s = 0 #Initializer variable for the sum\n",
    "    \n",
    "    for k in range(0, N): #Need the range to span the same indices as the x and w lists\n",
    "        s += w[k] * function(x[k]) #Multiplies the weights by the y-values corresponding to each point's location\n",
    "        \n",
    "    return s #Returns the sum"
   ]
  },
  {
   "cell_type": "code",
   "execution_count": 23,
   "id": "094a43e1",
   "metadata": {},
   "outputs": [
    {
     "data": {
      "text/plain": [
       "4.4000000000000075"
      ]
     },
     "execution_count": 23,
     "metadata": {},
     "output_type": "execute_result"
    }
   ],
   "source": [
    "gauss_quad(3)"
   ]
  },
  {
   "cell_type": "code",
   "execution_count": null,
   "id": "0551f188",
   "metadata": {},
   "outputs": [],
   "source": []
  }
 ],
 "metadata": {
  "kernelspec": {
   "display_name": "Python 3",
   "language": "python",
   "name": "python3"
  },
  "language_info": {
   "codemirror_mode": {
    "name": "ipython",
    "version": 3
   },
   "file_extension": ".py",
   "mimetype": "text/x-python",
   "name": "python",
   "nbconvert_exporter": "python",
   "pygments_lexer": "ipython3",
   "version": "3.8.8"
  }
 },
 "nbformat": 4,
 "nbformat_minor": 5
}
