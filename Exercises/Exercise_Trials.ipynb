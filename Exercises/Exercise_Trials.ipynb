{
 "cells": [
  {
   "cell_type": "code",
   "execution_count": 1,
   "id": "632d1913",
   "metadata": {},
   "outputs": [],
   "source": [
    "import numpy as np\n",
    "import pandas as pd\n",
    "#import astropy.constants as const\n",
    "import scipy.constants as const\n",
    "import astropy.units as u\n",
    "import argparse\n",
    "import sys\n",
    "import math\n",
    "import matplotlib.pyplot as plt"
   ]
  },
  {
   "cell_type": "code",
   "execution_count": null,
   "id": "075b4002",
   "metadata": {},
   "outputs": [],
   "source": [
    "def drop_time(h, g = 9.8): #h = positional, g = keyword\n",
    "    t = ((2.0 * h) / g) ** (1/2) #Avoid using a package unless absolutely necessary\n",
    "    return t"
   ]
  },
  {
   "cell_type": "code",
   "execution_count": null,
   "id": "d67681c3",
   "metadata": {},
   "outputs": [],
   "source": [
    "#If the height is 1 m:\n",
    "drop_time(10)"
   ]
  },
  {
   "cell_type": "markdown",
   "id": "36a50ccc",
   "metadata": {},
   "source": [
    "Machine Precision"
   ]
  },
  {
   "cell_type": "code",
   "execution_count": null,
   "id": "fff0212d",
   "metadata": {},
   "outputs": [],
   "source": [
    "x = 1.0\n",
    "eps = 1.0\n",
    "\n",
    "while not x + eps == x:\n",
    "    eps = 0.5 * eps\n",
    "    \n",
    "print(2 * eps)"
   ]
  },
  {
   "cell_type": "code",
   "execution_count": null,
   "id": "6076f052",
   "metadata": {},
   "outputs": [],
   "source": [
    "b = 0.1\n",
    "print(type(b))\n",
    "print(\"{:30.20}\".format(b))\n",
    "sys.float_info"
   ]
  },
  {
   "cell_type": "code",
   "execution_count": null,
   "id": "aa16ce19",
   "metadata": {},
   "outputs": [],
   "source": [
    "x = 1\n",
    "y = 1 + (10e-14 * np.sqrt(2))\n",
    "\n",
    "print(1e14 * (y-x))\n",
    "print(np.sqrt(2))"
   ]
  },
  {
   "cell_type": "code",
   "execution_count": null,
   "id": "46f48def",
   "metadata": {},
   "outputs": [],
   "source": [
    "def quad_formula_2(a, b, c):\n",
    "    #Solution 2\n",
    "    x_1 = (2 * c) / (-b - np.sqrt(np.square(b) - (4 * a * c)))\n",
    "    x_2 = (2 * c) / (-b + np.sqrt(np.square(b) - (4 * a * c)))\n",
    "    \n",
    "    return x_1, x_2  "
   ]
  },
  {
   "cell_type": "code",
   "execution_count": null,
   "id": "02bac8d0",
   "metadata": {},
   "outputs": [],
   "source": [
    "root_1, root_2 = quad_formula_2(3, 6, 1)\n",
    "print(root_1)\n",
    "print(root_2)"
   ]
  },
  {
   "cell_type": "code",
   "execution_count": null,
   "id": "0c98b49f",
   "metadata": {},
   "outputs": [],
   "source": [
    "def energy(n):\n",
    "    \n",
    "    hf = 1\n",
    "    beta = 0.01\n",
    "    \n",
    "    #Initializers\n",
    "    Z = 0\n",
    "    E = 0\n",
    "    \n",
    "    for i in range(n):\n",
    "        E_n = hf * (i + 0.5) #Energy level\n",
    "        Z = Z + np.exp(-beta * E_n) #Z equation (infinite sum)\n",
    "        E += E_n * np.exp(-beta * E_n) #E equation\n",
    "        \n",
    "    avg_E = (E/Z) #Average energy\n",
    "    \n",
    "    return avg_E"
   ]
  },
  {
   "cell_type": "code",
   "execution_count": null,
   "id": "e638bbb0",
   "metadata": {},
   "outputs": [],
   "source": [
    "#Hundred runs\n",
    "print(f\"4000 runs: {energy(4000)}\")"
   ]
  },
  {
   "cell_type": "markdown",
   "id": "ff58ae12",
   "metadata": {},
   "source": [
    "Trapezoid Rule (Integration)"
   ]
  },
  {
   "cell_type": "code",
   "execution_count": 18,
   "id": "84f0e02f",
   "metadata": {},
   "outputs": [],
   "source": [
    "def func(x): #Integration function\n",
    "    return x**4 - (2*x) + 1"
   ]
  },
  {
   "cell_type": "code",
   "execution_count": 19,
   "id": "1868a0de",
   "metadata": {},
   "outputs": [],
   "source": [
    "def trap_rule(n, a = 0, b = 2, function = func):\n",
    "    \n",
    "    #Default paramaters\n",
    "    #a (lower limit) = 0\n",
    "    #b (upper limit) = 2\n",
    "    #function = func\n",
    "    \n",
    "    h = (b - a) / n #Height\n",
    "    s = (0.5 * function(a)) + (0.5 * function(b)) #Sum\n",
    "    \n",
    "    for k in range(1, n + 1): #Summation (range stops at n)\n",
    "        s += function(a + (k * h))\n",
    "        \n",
    "    return (h * s) #Multiply height by the sum"
   ]
  },
  {
   "cell_type": "code",
   "execution_count": null,
   "id": "d15ec41e",
   "metadata": {},
   "outputs": [],
   "source": [
    "trap_rule(10)"
   ]
  },
  {
   "cell_type": "markdown",
   "id": "ab369e53",
   "metadata": {},
   "source": [
    "Simpson's Rule"
   ]
  },
  {
   "cell_type": "code",
   "execution_count": 20,
   "id": "cb9332a0",
   "metadata": {},
   "outputs": [],
   "source": [
    "def OG_simps_rule(n, a = 0, b = 2, function = func):\n",
    "    \n",
    "    #Default paramaters\n",
    "    #a (lower limit) = 0\n",
    "    #b (upper limit) = 2\n",
    "    #function = func \n",
    "    \n",
    "    delta_x = (b - a) / n\n",
    "    \n",
    "    s = function(a) + function(b)\n",
    "    \n",
    "    #Odd integer loop\n",
    "    for k in range(1, int(n/2) + 1):\n",
    "        s += 4 * function(a + (((2 * k) - 1) * delta_x))\n",
    "    \n",
    "    #Even integer loop\n",
    "    for k in range(1, int((n/2))):\n",
    "        s += 2 * function(a + (2 * k * delta_x))\n",
    "        \n",
    "    return (delta_x / 3) * s"
   ]
  },
  {
   "cell_type": "code",
   "execution_count": 21,
   "id": "1874e448",
   "metadata": {},
   "outputs": [
    {
     "data": {
      "text/plain": [
       "0.8820813907623566"
      ]
     },
     "execution_count": 21,
     "metadata": {},
     "output_type": "execute_result"
    }
   ],
   "source": [
    "OG_simps_rule(1000, function = exp_func) #Ok, so the above method works... how do I adapt it to work for the plots?"
   ]
  },
  {
   "cell_type": "code",
   "execution_count": null,
   "id": "2777a77a",
   "metadata": {},
   "outputs": [],
   "source": [
    "simpsons_rule(10)"
   ]
  },
  {
   "cell_type": "code",
   "execution_count": null,
   "id": "88c3a1c0",
   "metadata": {},
   "outputs": [],
   "source": [
    "#Trapezoid rule\n",
    "\n",
    "#10 steps\n",
    "integral_10_trap = trap_rule(10)\n",
    "\n",
    "#20 steps\n",
    "integral_20_trap = trap_rule(20)\n",
    "\n",
    "error_trap = (1/3) * abs(integral_20_trap - integral_10_trap)\n",
    "\n",
    "print(f\"Error with Trapezoid Rule: {error_trap}\")"
   ]
  },
  {
   "cell_type": "code",
   "execution_count": null,
   "id": "1b621358",
   "metadata": {},
   "outputs": [],
   "source": [
    "#Simpson's rule\n",
    "\n",
    "#10 steps\n",
    "integral_10_simp = simpsons_rule(10)\n",
    "\n",
    "#20 steps\n",
    "integral_20_simp = simpsons_rule(20)\n",
    "\n",
    "error_simp = (1/15) * abs(integral_20_simp - integral_10_simp)\n",
    "\n",
    "print(f\"Error with Simpson's Rule: {error_simp}\")"
   ]
  },
  {
   "cell_type": "markdown",
   "id": "dbd0a1bb",
   "metadata": {},
   "source": [
    "Gaussian Quadrature"
   ]
  },
  {
   "cell_type": "code",
   "execution_count": null,
   "id": "e8ae0369",
   "metadata": {},
   "outputs": [],
   "source": [
    "def gaussxw(N):\n",
    "\n",
    "    # Initial approximation to roots of the Legendre polynomial\n",
    "    a = np.linspace(3,4*N-1,N)/(4*N+2)\n",
    "    x = np.cos(np.pi*a+1/(8*N*N*np.tan(a)))\n",
    "\n",
    "    # Find roots using Newton's method\n",
    "    epsilon = 1e-15\n",
    "    delta = 1.0\n",
    "    while delta>epsilon:\n",
    "        p0 = np.ones(N,float)\n",
    "        p1 = np.copy(x)\n",
    "        for k in range(1,N):\n",
    "            p0,p1 = p1,((2*k+1)*x*p1-k*p0)/(k+1)\n",
    "        dp = (N+1)*(p0-x*p1)/(1-x*x)\n",
    "        dx = p1/dp\n",
    "        x -= dx\n",
    "        delta = np.max(np.abs(dx))\n",
    "\n",
    "    # Calculate the weights\n",
    "    w = 2*(N+1)*(N+1)/(N*N*(1-x*x)*dp*dp)\n",
    "\n",
    "    return x,w\n",
    "\n",
    "def gaussxwab(N,a,b):\n",
    "    x,w = gaussxw(N)\n",
    "    return 0.5*(b-a)*x+0.5*(b+a),0.5*(b-a)*w"
   ]
  },
  {
   "cell_type": "code",
   "execution_count": null,
   "id": "a1bbe34d",
   "metadata": {},
   "outputs": [],
   "source": [
    "locations, weights = gaussxwab(3, 0, 2)\n",
    "print(f\"Locations: {locations}\\n\")\n",
    "print(f\"Weights: {weights}\")"
   ]
  },
  {
   "cell_type": "code",
   "execution_count": null,
   "id": "969e8b03",
   "metadata": {},
   "outputs": [],
   "source": [
    "def gauss_quad(N, a = 0, b = 2, function = func): #N = Number of steps, a = Lower bound, b = Upper bound\n",
    "    \n",
    "    x, w = gaussxwab(N, a, b) #Calculates the x-coordinates for specific points and their weights\n",
    "    \n",
    "    s = 0 #Initializer variable for the sum\n",
    "    \n",
    "    for k in range(0, N): #Need the range to span the same indices as the x and w lists\n",
    "        s += w[k] * function(x[k]) #Multiplies the weights by the y-values corresponding to each point's location\n",
    "        \n",
    "    return s #Returns the sum"
   ]
  },
  {
   "cell_type": "code",
   "execution_count": null,
   "id": "094a43e1",
   "metadata": {},
   "outputs": [],
   "source": [
    "gauss_quad(3)"
   ]
  },
  {
   "cell_type": "markdown",
   "id": "bf203c5d",
   "metadata": {},
   "source": [
    "Differentiation"
   ]
  },
  {
   "cell_type": "code",
   "execution_count": null,
   "id": "fbec1e89",
   "metadata": {},
   "outputs": [],
   "source": [
    "def tan_func(x):\n",
    "    return 1 + (0.5 * np.tanh(2*x))"
   ]
  },
  {
   "cell_type": "code",
   "execution_count": null,
   "id": "6f8f6aeb",
   "metadata": {},
   "outputs": [],
   "source": [
    "def analytic_deriv(x):\n",
    "    return 1 / (np.cosh(2 * x) ** 2)"
   ]
  },
  {
   "cell_type": "code",
   "execution_count": null,
   "id": "6e08887f",
   "metadata": {},
   "outputs": [],
   "source": [
    "def central_diff(x, func = tan_func):\n",
    "    \n",
    "    h = 10**-5\n",
    "    \n",
    "    return (1/h) * (func(x + (0.5 * h)) - func(x - (0.5 * h)))"
   ]
  },
  {
   "cell_type": "code",
   "execution_count": null,
   "id": "532406a1",
   "metadata": {},
   "outputs": [],
   "source": [
    "diff_range = np.linspace(-2, 2, 100)\n",
    "\n",
    "fig = plt.figure(figsize = (12, 8))\n",
    "\n",
    "plt.plot(diff_range, central_diff(diff_range), color = 'blue', label = 'Central Diff Derivative')\n",
    "plt.plot(diff_range, analytic_deriv(diff_range), color = 'orangered', label = 'Analytic Derivative')\n",
    "\n",
    "plt.grid()\n",
    "plt.legend(loc = 'upper left', fontsize = 15)"
   ]
  },
  {
   "cell_type": "markdown",
   "id": "69eabc80",
   "metadata": {},
   "source": [
    "# HW - Integration"
   ]
  },
  {
   "cell_type": "code",
   "execution_count": 2,
   "id": "26082360",
   "metadata": {},
   "outputs": [],
   "source": [
    "def exp_func(t):\n",
    "    return np.e ** (-(t ** 2))"
   ]
  },
  {
   "cell_type": "code",
   "execution_count": 3,
   "id": "d583b05e",
   "metadata": {},
   "outputs": [],
   "source": [
    "#Trapezoid rule\n",
    "\n",
    "def trap_rule(N, a = 0, b = 3, step_size = 0.1, function = exp_func):\n",
    "    \n",
    "    \"\"\"\n",
    "    This function integrates a given function using the trapezoidal method. This function will integrate over\n",
    "    bounds of 0 (lower) and 3 (upper), but the user can change the bounds if desired. The given function will\n",
    "    be iterated over increments of 0.1, which is considered the \"step size.\" Similarly to the bounds, the user\n",
    "    can change the step size if desired. \n",
    "    \n",
    "    The integral will be iterated N times, where the upper bounds changes from a (0) to b(3) via step_size (0.1)\n",
    "    increments (ex: ingerate from 0 to 0.1, 0 to 0.2, etc.). With each iteration of the 'for loop,' delta_x will\n",
    "    change depending on the upper bound, and from there, we can calculate the area of a trapezoidal segment.\n",
    "    Every time the upper bound changes, the trapezoid's areas will be summed together. After calculating the area,\n",
    "    it will be added to the trapezoidal method's integration equation, and the answer for the integral will be\n",
    "    added to an array (sum_trap). x_range and sum_trap will then be returned, so the values can be plotted.\n",
    "    \n",
    "    \n",
    "    Parameters:\n",
    "        N (int) = Number of times an integral will be calculated (positional argument)\n",
    "        a (int or float) = Lower bound for the integral (keyword argument)\n",
    "        b (int or float) = Upper bound for the integral (keyword argument)\n",
    "        step_size (float) = Incremental change of bounds (keyword argument)\n",
    "        function (function name) = Function being integrated (keyword argument)\n",
    "    \n",
    "    Values:\n",
    "        area_trap (float) = Area corresponding to each trapezoidal segment\n",
    "        delta_x (float) = Height of each trapezoidal segment \n",
    "        \n",
    "    \n",
    "    Returns:\n",
    "        x_range (np.array) = Array of increments spanning the upper and lower bound, where the increments are\n",
    "                             dependent on the step size\n",
    "        sum_trap (list) = List of sums corresponding to each iteration of the integration method\n",
    "        \n",
    "    \n",
    "    \"\"\"\n",
    "    \n",
    "    x_range = np.arange(a, b, step_size)\n",
    "    \n",
    "    sum_trap = [] #List of each trapezoid slice's sum\n",
    "    \n",
    "    for i in x_range: #Range of summation (range stops at N)\n",
    "        \n",
    "        area_trap = 0 #Area of individual trapezoid slice\n",
    "        \n",
    "        delta_x = (i - a) / N #Change in x for each iteration of the integration\n",
    "        \n",
    "        for j in range(N + 1): #Loops N times\n",
    "            area_trap += function(a + (j * delta_x)) #Sum for each iteration\n",
    "            \n",
    "        lower_end_point = 0.5 * function(a) #Starting value\n",
    "        upper_end_point = 0.5 * function(i) #Ending value\n",
    "        \n",
    "        #Integration equation for trapezoidal method\n",
    "        integral_trap = delta_x * (lower_end_point + area_trap + upper_end_point)\n",
    "        \n",
    "        sum_trap.append(integral_trap) #Appends each trapezoid's sums together\n",
    "        \n",
    "    print(f\"Trapezoid rule with step size of {step_size} = {integral_trap:.3f}\")\n",
    "        \n",
    "    return sum_trap, x_range #Multiplies height by the sum"
   ]
  },
  {
   "cell_type": "code",
   "execution_count": 4,
   "id": "3d5101a9",
   "metadata": {},
   "outputs": [
    {
     "name": "stdout",
     "output_type": "stream",
     "text": [
      "Trapezoid rule with step size of 0.1 = 0.889\n"
     ]
    }
   ],
   "source": [
    "sum_trap, x_range = trap_rule(1000)"
   ]
  },
  {
   "cell_type": "code",
   "execution_count": null,
   "id": "a1f50f70",
   "metadata": {},
   "outputs": [],
   "source": [
    "type(sum_trap[0]) #Calculations check out for this method (Wolfram Alpha agrees for the most part)"
   ]
  },
  {
   "cell_type": "code",
   "execution_count": null,
   "id": "ca87878d",
   "metadata": {
    "scrolled": false
   },
   "outputs": [],
   "source": [
    "fig = plt.figure(figsize = (12, 8))\n",
    "\n",
    "plt.xlabel('t', fontsize = 15)\n",
    "plt.ylabel('Sum', fontsize = 15)\n",
    "plt.title('Integrating With Trapezoidal Method', fontsize = 20)\n",
    "\n",
    "plt.scatter(x_range, sum_trap, color = 'blue')\n",
    "\n",
    "plt.grid()\n",
    "plt.show()"
   ]
  },
  {
   "cell_type": "code",
   "execution_count": 28,
   "id": "2d5beb10",
   "metadata": {},
   "outputs": [],
   "source": [
    "#Simpsons Rule\n",
    "\n",
    "def simpsons_rule(N, a = 0, b = 3, step_size = 0.1, function = exp_func):\n",
    "    \n",
    "    \"\"\"\n",
    "    This function integrates a given function using the Simpson's rule. This function will integrate over\n",
    "    bounds of 0 (lower) and 3 (upper), but the user can change the bounds if desired. The given function will\n",
    "    be iterated over increments of 0.1, which is considered the \"step size.\" Similarly to the bounds, the user\n",
    "    can change the step size if desired. \n",
    "    \n",
    "    The integral will be iterated N times, where the upper bounds changes from a (0) to b(3) via step_size (0.1)\n",
    "    increments (ex: ingerate from 0 to 0.1, 0 to 0.2, etc.). With each iteration of the 'for loop,' delta_x will\n",
    "    change depending on the upper bound, and from there, we can calculate the area under the curve that spans a\n",
    "    specific bound range. Every time the upper bound changes, the areas will be summed together. After calculating\n",
    "    the area, it will be added to the Simpson method's integration equation, and the answer for the integral will\n",
    "    be added to an array (sum_simp). x_range and sum_simp will then be returned, so the values can be plotted.\n",
    "    \n",
    "    Parameters:\n",
    "        N (int) = Number of times an integral will be calculated (positional argument)\n",
    "        a (int or float) = Lower bound for the integral (keyword argument)\n",
    "        b (int or float) = Upper bound for the integral (keyword argument)\n",
    "        step_size (float) = Incremental change of bounds (keyword argument)\n",
    "        function (function name) = Function being integrated (keyword argument)\n",
    "    \n",
    "    Values:\n",
    "        area_simp (float) = Area under the curve corresponding to different bound ranges\n",
    "    \n",
    "    Returns:\n",
    "        x_range (np.array) = Array of increments spanning the upper and lower bound, where the increments are\n",
    "                             dependent on the step size\n",
    "        sum_simp (list) = List of sums corresponding to each iteration of the integration method\n",
    "    \n",
    "    \"\"\"\n",
    "    \n",
    "    x_range = np.arange(a, b, step_size)\n",
    "    \n",
    "    sum_simp = [] #List of each trapezoid slice's sum\n",
    "        \n",
    "    for i in x_range:\n",
    "        \n",
    "        area_simp = 0 #Area under the curve of a specific integration bound\n",
    "        \n",
    "        delta_x = (i - a) / N #Change in x for each iteration of the integration\n",
    "        \n",
    "        lower_end_point = function(a) #Stays constant\n",
    "        upper_end_point = function(i) #Upper bound incrementally increases by the step_size value every iteration\n",
    "        \n",
    "        #Odd integer loop\n",
    "        for k in range(1, int(N/2) + 1):\n",
    "            area_simp += 4 * function(a + (((2 * k) - 1) * delta_x))\n",
    "    \n",
    "        #Even integer loop\n",
    "        for k in range(1, int((N/2))):\n",
    "            area_simp += 2 * function(a + (2 * k * delta_x))\n",
    "                \n",
    "        integral_simp = (delta_x/3) * (lower_end_point + area_simp + upper_end_point) #Simpson's equation\n",
    "        \n",
    "        sum_simp.append(integral_simp) #Appending each set of bounds' integrations to a list    \n",
    "        \n",
    "    #print(f\"Simpson's rule with step size of {step_size} = {integral_simp:.3f}\")\n",
    "        \n",
    "    return x_range, sum_simp, integral_simp"
   ]
  },
  {
   "cell_type": "code",
   "execution_count": 29,
   "id": "a1571c1e",
   "metadata": {
    "scrolled": true
   },
   "outputs": [
    {
     "name": "stdout",
     "output_type": "stream",
     "text": [
      "Simpson's rule with step size of 0.1 = 0.886\n"
     ]
    },
    {
     "data": {
      "text/plain": [
       "[0.0,\n",
       " 0.09966766429034286,\n",
       " 0.1973650309265705,\n",
       " 0.2912378826583573,\n",
       " 0.379652839705672,\n",
       " 0.4612810064263135,\n",
       " 0.5351535268355669,\n",
       " 0.6006856681289655,\n",
       " 0.6576698563944394,\n",
       " 0.7062415150440978,\n",
       " 0.7468241328941758,\n",
       " 0.7800614326384583,\n",
       " 0.8067447581388152,\n",
       " 0.8277429893353049,\n",
       " 0.8439407136867131,\n",
       " 0.8561883933580161,\n",
       " 0.8652662255603029,\n",
       " 0.8718615929190577,\n",
       " 0.8765586336867719,\n",
       " 0.8798376090918693,\n",
       " 0.8820813901111869,\n",
       " 0.8835864412364313,\n",
       " 0.8845760203007192,\n",
       " 0.8852138110252141,\n",
       " 0.885616745424193,\n",
       " 0.8858662732198307,\n",
       " 0.886017745075817,\n",
       " 0.8861078759100157,\n",
       " 0.8861604465492634,\n",
       " 0.8861905032666321]"
      ]
     },
     "execution_count": 29,
     "metadata": {},
     "output_type": "execute_result"
    }
   ],
   "source": [
    "x_range, sum_simp, integral_simp  = simpsons_rule(100) #This method isn't working very well\n",
    "\n",
    "sum_simp"
   ]
  },
  {
   "cell_type": "code",
   "execution_count": 30,
   "id": "828f47b0",
   "metadata": {},
   "outputs": [
    {
     "data": {
      "image/png": "[encoded data removed]",
      "text/plain": [
       "<Figure size 864x576 with 1 Axes>"
      ]
     },
     "metadata": {
      "needs_background": "light"
     },
     "output_type": "display_data"
    }
   ],
   "source": [
    "fig = plt.figure(figsize = (12, 8))\n",
    "\n",
    "plt.xlabel('t', fontsize = 15)\n",
    "plt.ylabel('Sum', fontsize = 15)\n",
    "plt.title('Integrating With Simpsons Method', fontsize = 20)\n",
    "\n",
    "plt.plot(x_range, sum_simp, color = 'orangered')\n",
    "\n",
    "plt.grid()\n",
    "plt.show()"
   ]
  },
  {
   "cell_type": "code",
   "execution_count": 36,
   "id": "700b8242",
   "metadata": {},
   "outputs": [
    {
     "data": {
      "image/png": "[encoded data removed]",
      "text/plain": [
       "<Figure size 864x576 with 1 Axes>"
      ]
     },
     "metadata": {
      "needs_background": "light"
     },
     "output_type": "display_data"
    }
   ],
   "source": [
    "#Comparing both methods\n",
    "\n",
    "fig = plt.figure(figsize = (12, 8))\n",
    "\n",
    "plt.xlabel('t', fontsize = 15)\n",
    "plt.ylabel('Sum', fontsize = 15)\n",
    "plt.title('Integrating With Simpsons Method', fontsize = 20)\n",
    "\n",
    "plt.plot(x_range, sum_simp, color = 'orangered', linewidth = 3, label = 'Simpsons')\n",
    "plt.plot(x_range, sum_trap, color = 'blue', linewidth = 2, linestyle = '--', label = 'Trapezoidal')\n",
    "\n",
    "plt.grid()\n",
    "plt.legend(loc = 'lower right', fontsize = 15)\n",
    "plt.show()"
   ]
  },
  {
   "cell_type": "code",
   "execution_count": null,
   "id": "0bbcdae1",
   "metadata": {},
   "outputs": [],
   "source": [
    "def plotting_integral(x_range, sum_list):\n",
    "    \n",
    "    fig = plt.figure(figsize = (12, 8))\n",
    "\n",
    "    plt.xlabel('t', fontsize = 15)\n",
    "    plt.ylabel('Sum', fontsize = 15)\n",
    "\n",
    "    if sum_list == sum_simp:\n",
    "        plt.title('Integrating With Simpsons Method', fontsize = 20)\n",
    "        plt.plot(x_range, sum_list, color = 'orangered', label = 'Simpsons')\n",
    "        \n",
    "    if sum_list == sum_trap:\n",
    "        plt.title('Integrating With Trapezoidal Method', fontsize = 20)\n",
    "        plt.plot(x_range, sum_trap, color = 'blue', label = 'Trapezoidal')\n",
    "\n",
    "    plt.grid()\n",
    "    plt.legend(loc = 'lower right', fontsize = 15)\n",
    "    plt.show()"
   ]
  },
  {
   "cell_type": "code",
   "execution_count": null,
   "id": "17aa3c48",
   "metadata": {},
   "outputs": [],
   "source": [
    "plotting_integral(x_range, sum_simp)"
   ]
  },
  {
   "cell_type": "code",
   "execution_count": null,
   "id": "4186097f",
   "metadata": {},
   "outputs": [],
   "source": [
    "sum_trap[-1]"
   ]
  },
  {
   "cell_type": "code",
   "execution_count": 6,
   "id": "9ceb889a",
   "metadata": {},
   "outputs": [],
   "source": [
    "def plotting_integral(x_range, sum_list, method_type):\n",
    "    \n",
    "    fig = plt.figure(figsize = (12, 8))\n",
    "\n",
    "    plt.xlabel('t', fontsize = 15)\n",
    "    plt.ylabel('Sum', fontsize = 15)\n",
    "\n",
    "    #if sum_list == sum_simp:\n",
    "        #plt.title('Integrating With Simpsons Method', fontsize = 20)\n",
    "        #plt.plot(x_range, sum_list, color = 'orangered', label = 'Simpsons')\n",
    "        \n",
    "    if method_type == 'trapezoidal':\n",
    "        plt.title('Integrating With Trapezoidal Method', fontsize = 20)\n",
    "        plt.plot(x_range, sum_list, color = 'blue', label = 'Trapezoidal')\n",
    "        \n",
    "    if method_type == 'both':\n",
    "        plt.title('Integrating With Trapezoid and Simpsons Method', fontsize = 20)\n",
    "\n",
    "        plt.plot(x_range, sum_simp, color = 'orangered', linewidth = 3, label = 'Simpsons')\n",
    "        plt.plot(x_range, sum_trap, color = 'blue', linewidth = 2, linestyle = '--', label = 'Trapezoidal')\n",
    "\n",
    "\n",
    "    plt.grid()\n",
    "    plt.legend(loc = 'lower right', fontsize = 15)\n",
    "    plt.show()"
   ]
  },
  {
   "cell_type": "code",
   "execution_count": 7,
   "id": "918d8d8d",
   "metadata": {},
   "outputs": [
    {
     "data": {
      "image/png": "[encoded data removed]",
      "text/plain": [
       "<Figure size 864x576 with 1 Axes>"
      ]
     },
     "metadata": {
      "needs_background": "light"
     },
     "output_type": "display_data"
    }
   ],
   "source": [
    "plotting_integral(x_range, sum_trap, 'trapezoidal')"
   ]
  },
  {
   "cell_type": "code",
   "execution_count": null,
   "id": "bf52b1bf",
   "metadata": {},
   "outputs": [],
   "source": []
  }
 ],
 "metadata": {
  "kernelspec": {
   "display_name": "Python 3",
   "language": "python",
   "name": "python3"
  },
  "language_info": {
   "codemirror_mode": {
    "name": "ipython",
    "version": 3
   },
   "file_extension": ".py",
   "mimetype": "text/x-python",
   "name": "python",
   "nbconvert_exporter": "python",
   "pygments_lexer": "ipython3",
   "version": "3.8.8"
  }
 },
 "nbformat": 4,
 "nbformat_minor": 5
}
